{
 "cells": [
  {
   "cell_type": "markdown",
   "metadata": {},
   "source": [
    "# Study on the Effects of the D614G Mutation on the Infectivity of SARS-CoV-2 Using California as a Case Study\n",
    "\n",
    "by Joshua Delgadillo, Lauren Craft, Adam Perlin, Efrain Rangel, Brett Triebold, Ritta Liu"
   ]
  },
  {
   "cell_type": "markdown",
   "metadata": {},
   "source": [
    " # Background"
   ]
  },
  {
   "cell_type": "markdown",
   "metadata": {},
   "source": [
    "Our team chose to research the novel Coronavirus. In 2020 SARS-CoV-2 began spreading across the world and there has been an widespread effort to understand the virus and research ways to combat it. Bioinformatics takes the forefront in understanding the genetic makeup of the virus and its mutations. Our contributions to the research into understanding SARS-CoV-2 include tracing similarities between SARS-CoV-2 and two viruses that have previously spread. These two viruses are SARS-CoV-1 and MERS-CoV. Much of our research and data collection involved taking sequences of these three viruses and examining the relationships between them in order to extract data to determine similarities and differences between them.\n",
    "\n",
    "The data used in our research came from the National Center for Biotechnology Information (NCBI). The NCBI contains a vast amount of bioinformatics related databases including several databases which contain virus specific DNA sequences. The database that we focused our data extraction on was the NCBI ",
    "Nucleotide Database. From this database we were able to collect several sequence samples to use in our research."
   ]
  },
  {
   "cell_type": "markdown",
   "metadata": {},
   "source": [
    "# Project Overview"
   ]
  },
  {
   "cell_type": "markdown",
   "metadata": {},
   "source": [
    "After successfully collecting sequence data for SARS-CoV-1, SARS-CoV-2 and MERS-CoV, we analyzed the similarities and differences between example sequences of each of the viruses. We wanted to expand upon this research and begin looking into mutations of SARS-CoV-2 that have appeared since the initial identification. The specific mutation that we focused on is the D614G mutation.\n",
    "\n",
    "The D614G mutation is an A-to-G missense mutation at position 23,403 that causes the substitution of aspartic acid with glycine (1). This causes a change in the structure of the viral spike glycoprotein. Virus with this mutation has since been named clade G and was first detected on January 21, 2020 (2). Due to the increasing global dominance of clade G, it is suspected that it increases susceptibility. A study found retroviruses with SG614 infected ACE2-expressing cells marked more efficiently than those with SD614 (6). It was initially mainly prevalent in European regions (1). In Italy there was an outbreak during the early stage of the global pandemic, resulting in 400 deaths in one month (3). 87% of samples taken from Italy were found to have the D614G mutation.\n",
    "\n",
    "California will be used as a case study. Samples will be taken from patients with Covid-19 all over California, and the prevalence of the D614G mutation among the California population can be deduced. We have randomly selected 30 samples from the NCBI, and searched for mutations on the spike glycoprotein (S protein) (5). Since the mutation has been more commonly found in Europe, it would likely have been introduced to the California population later on. The presence of the D614G mutation among Californian cases could infer increased infectivity.\n"
   ]
  },
  {
   "cell_type": "markdown",
   "metadata": {},
   "source": [
    "# Implementation"
   ]
  },
  {
   "cell_type": "markdown",
   "metadata": {},
   "source": [
    "### Smith-Waterman Algorithm\n",
    "\n",
    "Our implementation began with the comparison between SARS-CoV-1, SARS-CoV-2 and MERS-CoV. In order to perform these comparisons we utilized the Smith-Waterman Algorithm. Earlier research performed to analyze the similarities and differences between the viruses utilized the Needleman-Wunsch Algorithm which finds the optimal global alignment of sequences. However, our decision to use Smith-Waterman came from its impressive ability to find the best local alignment. We use the individual local alignment scores to draw conclusions about overall viral genome similarity; i.e., if all local alignments exhibit high similarity and local alignments take up a large proportion of the genome then the two genomes are likely to be quite similar.\n",
    "\n",
    "\n",
    "Pseduo code:\n",
    "\n",
    "~~~\n",
    "\n",
    "Given: String s1 with length m , String s2 with length n\n",
    "\n",
    "    // initialize matrix, M\n",
    "    \n",
    "    // score cells in matrix\n",
    "    for i=1 to m\n",
    "        for j=1 to n\n",
    "        \n",
    "            // initialization: max is 0\n",
    "            max = 0 \n",
    "            \n",
    "            // first comparison: west cell (deletion)\n",
    "            score = M[i][j-1] + gapScore\n",
    "            if( score > max )\n",
    "                max = score\n",
    "            \n",
    "            // second comparison: north cell (insertion)\n",
    "            score = M[i-1][j] + gapScore\n",
    "            if( score > max )\n",
    "                max = score\n",
    "            \n",
    "            // last comparison: north-west cell (alignment)\n",
    "            base1 = s1[j-1]\n",
    "            base2 = s2[i-1]\n",
    "            \n",
    "            if( base1 == base2 )              // match\n",
    "                alignmentScore = matchScore\n",
    "            else                              // mismatch\n",
    "                alignmentScore = mismatchScore\n",
    "            \n",
    "            score = M[i-1][j-1] + alignmentScore\n",
    "            if( score > max )\n",
    "                max = score\n",
    "            \n",
    "            // finished all comparisons\n",
    "            M[i][j] = max\n",
    "    \n",
    "    // return completed matrix\n",
    "    return M\n",
    "~~~"
   ]
  },
  {
   "cell_type": "markdown",
   "metadata": {},
   "source": [
    "### BLAST\n",
    "\n",
    "We chose to utilize \"The Basic Local Alignment Search Tool (BLAST), in order to perform our sequence analysis. \n",
    "\n",
    "From the [BLAST website]: BLAST finds regions of local similarity between sequences. The program compares nucleotide or protein sequences to sequence databases and calculates the statistical significance of matches.\"\n",
    "\n",
    "In our research, we found out BLAST actually uses a faster (but less precise) version of Smith-Waterman. A heuristic is used to eliminate sequences that are not likely to be a good local alignment. The shortcut was necessary because the algorithm is too slow when ran with large datasets. source: [The NCBI Handbook]\n",
    "\n",
    "[BLAST website]: https://blast.ncbi.nlm.nih.gov/Blast.cgi\n",
    "[The NCBI Handbook]: https://www.unmc.edu/bsbc/docs/NCBI_blast.pdf"
   ]
  },
  {
   "cell_type": "markdown",
   "metadata": {},
   "source": [
    "A function to print the contents of .fasta files:"
   ]
  },
  {
   "cell_type": "code",
   "execution_count": 53,
   "metadata": {},
   "outputs": [],
   "source": [
    "from Bio import SeqIO\n",
    "import pandas as pd \n",
    "  \n",
    "def print_fasta(virus_name, file_name):\n",
    "    # initialize list of lists \n",
    "    data = []\n",
    "\n",
    "    fasta_sequences = SeqIO.parse(open(file_name),'fasta')\n",
    "    with open(file_name) as out_file:\n",
    "        for fasta in fasta_sequences:\n",
    "            name, sequence = fasta.id, str(fasta.seq)\n",
    "            data.append([name, sequence])\n",
    "\n",
    "    # Create the pandas DataFrame \n",
    "    df = pd.DataFrame(data, columns = [virus_name, 'sequence']) \n",
    "\n",
    "    # print dataframe. \n",
    "    print(df) \n",
    "        "
   ]
  },
  {
   "cell_type": "markdown",
   "metadata": {},
   "source": [
    "Printing one example sequence of each of the viruses:"
   ]
  },
  {
   "cell_type": "code",
   "execution_count": 54,
   "metadata": {},
   "outputs": [
    {
     "name": "stdout",
     "output_type": "stream",
     "text": [
      "   SARS-CoV-1                                           sequence\n",
      "0  ATO98191.1  MESLVLGVNEKTHVQLSLPVLQVRDVLVRGFGDSVEEALSEAREHL...\n",
      "\n",
      "   SARS-CoV-2                                           sequence\n",
      "0  QOP81761.1  MESLVPGFNEKTHVQLSLPVLQVRDVLVRGFGDSVEEVLSEARQHL...\n",
      "\n",
      "     MERS-CoV                                           sequence\n",
      "0  AVV62535.1  MSSVAGVVAQGARNRYRAALNNEKRPDHVSLTVPCCGTGDLAEHLS...\n",
      "\n"
     ]
    }
   ],
   "source": [
    "from glob import glob\n",
    "\n",
    "data_dir = \"test_data\"\n",
    "sample_types = [\n",
    "    \"SARS-CoV-1\",\n",
    "    \"SARS-CoV-2\",\n",
    "    \"MERS-CoV\"\n",
    "]\n",
    "\n",
    "for sample_type in sample_types:\n",
    "    sample = glob(data_dir+\"/{}*.fasta\".format(sample_type))\n",
    "    print_fasta(sample_type, sample[0])\n",
    "    print()"
   ]
  },
  {
   "cell_type": "markdown",
   "metadata": {},
   "source": [
    "#### Database Creation for Utilizing BLAST"
   ]
  },
  {
   "cell_type": "code",
   "execution_count": 55,
   "metadata": {},
   "outputs": [
    {
     "name": "stdout",
     "output_type": "stream",
     "text": [
      "\n",
      "\n",
      "Building a new DB, current time: 11/30/2020 22:29:41\n",
      "New DB name:   /home/jupyter-jdelga26/448/test_data/SARS-CoV-1-ATO98191.fasta\n",
      "New DB title:  test_data/SARS-CoV-1-ATO98191.fasta\n",
      "Sequence type: Protein\n",
      "Keep MBits: T\n",
      "Maximum file size: 1000000000B\n",
      "Adding sequences from FASTA; added 1 sequences in 0.000217199 seconds.\n",
      "\n",
      "\n",
      "\n",
      "\n",
      "Building a new DB, current time: 11/30/2020 22:29:41\n",
      "New DB name:   /home/jupyter-jdelga26/448/test_data/SARS-CoV-2-QOP81761.fasta\n",
      "New DB title:  test_data/SARS-CoV-2-QOP81761.fasta\n",
      "Sequence type: Protein\n",
      "Keep MBits: T\n",
      "Maximum file size: 1000000000B\n",
      "Adding sequences from FASTA; added 1 sequences in 0.000206947 seconds.\n",
      "\n",
      "\n",
      "\n",
      "\n",
      "Building a new DB, current time: 11/30/2020 22:29:41\n",
      "New DB name:   /home/jupyter-jdelga26/448/test_data/MERS-CoV-AUM60013.fasta\n",
      "New DB title:  test_data/MERS-CoV-AUM60013.fasta\n",
      "Sequence type: Protein\n",
      "Keep MBits: T\n",
      "Maximum file size: 1000000000B\n",
      "Adding sequences from FASTA; added 1 sequences in 0.000194073 seconds.\n",
      "\n",
      "\n"
     ]
    }
   ],
   "source": [
    "%%bash\n",
    "/usr/local/ncbi-blast-2.10.1+/bin/makeblastdb -in test_data/SARS-CoV-1-ATO98191.fasta -dbtype prot\n",
    "/usr/local/ncbi-blast-2.10.1+/bin/makeblastdb -in test_data/SARS-CoV-2-QOP81761.fasta -dbtype prot\n",
    "/usr/local/ncbi-blast-2.10.1+/bin/makeblastdb -in test_data/MERS-CoV-AUM60013.fasta -dbtype prot"
   ]
  },
  {
   "cell_type": "markdown",
   "metadata": {},
   "source": [
    "Running blast on each pair:"
   ]
  },
  {
   "cell_type": "code",
   "execution_count": 56,
   "metadata": {},
   "outputs": [],
   "source": [
    "%%bash\n",
    "/usr/local/ncbi-blast-2.10.1+/bin/blastp -query ./test_data/SARS-CoV-1-ATO98191.fasta -db ./test_data/SARS-CoV-2-QOP81761.fasta -evalue 1e-6 -num_threads 16 -out ./test_data/blast_S1_S2.txt\n",
    "/usr/local/ncbi-blast-2.10.1+/bin/blastp -query ./test_data/SARS-CoV-1-ATO98191.fasta -db ./test_data/MERS-CoV-AUM60013.fasta -evalue 1e-6 -num_threads 16 -out ./test_data/blast_S1_M.txt\n",
    "/usr/local/ncbi-blast-2.10.1+/bin/blastp -query ./test_data/SARS-CoV-2-QOP81761.fasta -db ./test_data/MERS-CoV-AUM60013.fasta -evalue 1e-6 -num_threads 16 -out ./test_data/blast_S2_M.txt"
   ]
  },
  {
   "cell_type": "markdown",
   "metadata": {},
   "source": [
    "BLAST results of SARS-CoV-1 and SARS-CoV-2:"
   ]
  },
  {
   "cell_type": "code",
   "execution_count": 57,
   "metadata": {},
   "outputs": [
    {
     "name": "stdout",
     "output_type": "stream",
     "text": [
      " Score = 12938 bits (33578),  Expect = 0.0, Method: Compositional matrix adjust.\r\n",
      " Identities = 6126/7101 (86%), Positives = 6599/7101 (93%), Gaps = 33/7101 (0%)\r\n"
     ]
    }
   ],
   "source": [
    "!grep -A1 \"Score = \" ./test_data/blast_S1_S2.txt | head -2"
   ]
  },
  {
   "cell_type": "markdown",
   "metadata": {},
   "source": [
    "BLAST results of SARS-CoV-1 and MERS-CoV:"
   ]
  },
  {
   "cell_type": "code",
   "execution_count": 58,
   "metadata": {},
   "outputs": [
    {
     "name": "stdout",
     "output_type": "stream",
     "text": [
      " Score = 6032 bits (15650),  Expect = 0.0, Method: Compositional matrix adjust.\r\n",
      " Identities = 3061/6037 (51%), Positives = 4050/6037 (67%), Gaps = 195/6037 (3%)\r\n"
     ]
    }
   ],
   "source": [
    "!grep -A1 \"Score = \" ./test_data/blast_S1_M.txt | head -2"
   ]
  },
  {
   "cell_type": "markdown",
   "metadata": {},
   "source": [
    "BLAST results of SARS-CoV-2 and MERS-CoV:"
   ]
  },
  {
   "cell_type": "code",
   "execution_count": 59,
   "metadata": {},
   "outputs": [
    {
     "name": "stdout",
     "output_type": "stream",
     "text": [
      " Score = 6061 bits (15723),  Expect = 0.0, Method: Compositional matrix adjust.\r\n",
      " Identities = 3055/5946 (51%), Positives = 4030/5946 (68%), Gaps = 177/5946 (3%)\r\n"
     ]
    }
   ],
   "source": [
    "!grep -A1 \"Score = \" ./test_data/blast_S2_M.txt | head -2"
   ]
  },
  {
   "cell_type": "markdown",
   "metadata": {
    "hideCode": true
   },
   "source": [
    "Commands to clean up the test_data directory:"
   ]
  },
  {
   "cell_type": "code",
   "execution_count": 60,
   "metadata": {},
   "outputs": [],
   "source": [
    "!rm ./test_data/*.fasta.*\n",
    "!rm ./test_data/*.txt"
   ]
  },
  {
   "cell_type": "markdown",
   "metadata": {},
   "source": [
    "#### BLAST Database Creation"
   ]
  },
  {
   "cell_type": "code",
   "execution_count": 61,
   "metadata": {},
   "outputs": [
    {
     "name": "stdout",
     "output_type": "stream",
     "text": [
      "\n",
      "\n",
      "Building a new DB, current time: 11/30/2020 22:29:41\n",
      "New DB name:   /home/jupyter-jdelga26/448/data/SARS-CoV-1-Sequences.fasta\n",
      "New DB title:  data/SARS-CoV-1-Sequences.fasta\n",
      "Sequence type: Protein\n",
      "Keep MBits: T\n",
      "Maximum file size: 1000000000B\n",
      "Adding sequences from FASTA; added 157 sequences in 0.00471306 seconds.\n",
      "\n",
      "\n",
      "\n",
      "\n",
      "Building a new DB, current time: 11/30/2020 22:29:41\n",
      "New DB name:   /home/jupyter-jdelga26/448/data/SARS-CoV-2-Sequences.fasta\n",
      "New DB title:  data/SARS-CoV-2-Sequences.fasta\n",
      "Sequence type: Protein\n",
      "Keep MBits: T\n",
      "Maximum file size: 1000000000B\n",
      "Adding sequences from FASTA; added 108 sequences in 0.00388503 seconds.\n",
      "\n",
      "\n",
      "\n",
      "\n",
      "Building a new DB, current time: 11/30/2020 22:29:41\n",
      "New DB name:   /home/jupyter-jdelga26/448/data/MERS-CoV-Sequences.fasta\n",
      "New DB title:  data/MERS-CoV-Sequences.fasta\n",
      "Sequence type: Protein\n",
      "Keep MBits: T\n",
      "Maximum file size: 1000000000B\n",
      "Adding sequences from FASTA; added 135 sequences in 0.00465202 seconds.\n",
      "\n",
      "\n"
     ]
    }
   ],
   "source": [
    "%%bash\n",
    "/usr/local/ncbi-blast-2.10.1+/bin/makeblastdb -in data/SARS-CoV-1-Sequences.fasta -dbtype prot\n",
    "/usr/local/ncbi-blast-2.10.1+/bin/makeblastdb -in data/SARS-CoV-2-Sequences.fasta -dbtype prot\n",
    "/usr/local/ncbi-blast-2.10.1+/bin/makeblastdb -in data/MERS-CoV-Sequences.fasta -dbtype prot"
   ]
  },
  {
   "cell_type": "markdown",
   "metadata": {},
   "source": [
    "Run blast on every pair"
   ]
  },
  {
   "cell_type": "code",
   "execution_count": 62,
   "metadata": {},
   "outputs": [],
   "source": [
    "%%bash\n",
    "/usr/local/ncbi-blast-2.10.1+/bin/blastp -query ./data/SARS-CoV-1-Sequences.fasta -db ./data/SARS-CoV-2-Sequences.fasta -evalue 1e-6 -num_threads 16 -out ./data/blast_S1_S2.txt\n",
    "/usr/local/ncbi-blast-2.10.1+/bin/blastp -query ./data/SARS-CoV-1-Sequences.fasta -db ./data/MERS-CoV-Sequences.fasta -evalue 1e-6 -num_threads 16 -out ./data/blast_S1_M.txt\n",
    "/usr/local/ncbi-blast-2.10.1+/bin/blastp -query ./data/SARS-CoV-2-Sequences.fasta -db ./data/MERS-CoV-Sequences.fasta -evalue 1e-6 -num_threads 16 -out ./data/blast_S2_M.txt"
   ]
  },
  {
   "cell_type": "markdown",
   "metadata": {},
   "source": [
    "Print out results of comparisons (top alignment score in every output file)"
   ]
  },
  {
   "cell_type": "code",
   "execution_count": 63,
   "metadata": {
    "scrolled": true
   },
   "outputs": [
    {
     "name": "stdout",
     "output_type": "stream",
     "text": [
      "SARS-CoV-1 x SARS-CoV-2\n",
      " Score = 12927 bits (33549),  Expect = 0.0, Method: Compositional matrix adjust.\n",
      " Identities = 6120/7103 (86%), Positives = 6595/7103 (93%), Gaps = 37/7103 (1%)\n",
      "SARS-CoV-1 x MERS-CoV\n",
      " Score = 5983 bits (15522),  Expect = 0.0, Method: Compositional matrix adjust.\n",
      " Identities = 3066/6175 (50%), Positives = 4083/6175 (66%), Gaps = 262/6175 (4%)\n",
      "SARS-CoV-2 x MERS-CoV\n",
      " Score = 5995 bits (15553),  Expect = 0.0, Method: Compositional matrix adjust.\n",
      " Identities = 3041/5978 (51%), Positives = 4002/5978 (67%), Gaps = 202/5978 (3%)\n"
     ]
    }
   ],
   "source": [
    "%%bash\n",
    "echo \"SARS-CoV-1 x SARS-CoV-2\"\n",
    "grep -A1 -m1 \"Score =\" ./data/blast_S1_S2.txt | head -2\n",
    "echo \"SARS-CoV-1 x MERS-CoV\"\n",
    "grep -A1 -m1 \"Score =\" ./data/blast_S1_M.txt | head -2\n",
    "echo \"SARS-CoV-2 x MERS-CoV\"\n",
    "grep -A1 -m1 \"Score =\" ./data/blast_S2_M.txt | head -2"
   ]
  },
  {
   "cell_type": "code",
   "execution_count": 65,
   "metadata": {},
   "outputs": [
    {
     "data": {
      "text/html": [
       "<div>\n",
       "<style scoped>\n",
       "    .dataframe tbody tr th:only-of-type {\n",
       "        vertical-align: middle;\n",
       "    }\n",
       "\n",
       "    .dataframe tbody tr th {\n",
       "        vertical-align: top;\n",
       "    }\n",
       "\n",
       "    .dataframe thead th {\n",
       "        text-align: right;\n",
       "    }\n",
       "</style>\n",
       "<table border=\"1\" class=\"dataframe\">\n",
       "  <thead>\n",
       "    <tr style=\"text-align: right;\">\n",
       "      <th></th>\n",
       "      <th>S1</th>\n",
       "      <th>S2</th>\n",
       "      <th>M</th>\n",
       "    </tr>\n",
       "  </thead>\n",
       "  <tbody>\n",
       "    <tr>\n",
       "      <th>S1</th>\n",
       "      <td>100.0</td>\n",
       "      <td>84.0</td>\n",
       "      <td>40.0</td>\n",
       "    </tr>\n",
       "    <tr>\n",
       "      <th>S2</th>\n",
       "      <td>84.0</td>\n",
       "      <td>100.0</td>\n",
       "      <td>38.0</td>\n",
       "    </tr>\n",
       "    <tr>\n",
       "      <th>M</th>\n",
       "      <td>40.0</td>\n",
       "      <td>38.0</td>\n",
       "      <td>100.0</td>\n",
       "    </tr>\n",
       "  </tbody>\n",
       "</table>\n",
       "</div>"
      ],
      "text/plain": [
       "       S1     S2      M\n",
       "S1  100.0   84.0   40.0\n",
       "S2   84.0  100.0   38.0\n",
       "M    40.0   38.0  100.0"
      ]
     },
     "execution_count": 65,
     "metadata": {},
     "output_type": "execute_result"
    }
   ],
   "source": [
    "import re\n",
    "import numpy as np\n",
    "\n",
    "def average_identity_rate_for_all_alignments(blast_output_file):\n",
    "    f = open(blast_output_file)\n",
    "    total_positive_frac = 0\n",
    "    n_significant_scores = 0\n",
    "\n",
    "    for line in f.readlines():\n",
    "        m = re.match(\"\\W*Identities = (\\d+)\\/(\\d+)\", line)\n",
    "        if m is not None:\n",
    "            num = float(m.group(1))\n",
    "            denom = float(m.group(2))\n",
    "            total_positive_frac += num/denom\n",
    "            n_significant_scores += 1\n",
    "            \n",
    "    return total_positive_frac / n_significant_scores\n",
    "\n",
    "pairings = [('S1', 'S2'), ('S1', 'M'), ('S2', 'M')]\n",
    "rows = np.zeros((3 ,3))\n",
    "df = pd.DataFrame(rows, columns=['S1', 'S2', 'M'], index=['S1', 'S2', 'M'])\n",
    "df.loc['S1', 'S1'] = df.loc['S2', 'S2'] = df.loc['M', 'M'] = 100\n",
    "for pair in pairings:\n",
    "    f = './data/blast_' + '_'.join(pair) + '.txt'\n",
    "    df.loc[pair[0], pair[1]] = df.loc[pair[1], pair[0]] = round(average_identity_rate_for_all_alignments(f)*100)\n",
    "\n",
    "df"
   ]
  },
  {
   "cell_type": "markdown",
   "metadata": {},
   "source": [
    "Clean up data directory"
   ]
  },
  {
   "cell_type": "code",
   "execution_count": 66,
   "metadata": {},
   "outputs": [],
   "source": [
    "!rm ./data/*.fasta.*"
   ]
  },
  {
   "cell_type": "markdown",
   "metadata": {},
   "source": [
    "### Mutation Research"
   ]
  },
  {
   "cell_type": "markdown",
   "metadata": {},
   "source": [
    "After analyzing the similarities and differences between the SARS-CoV-1, SARS-CoV-2 and MERS-CoV sequences, we began futhering our research of SARS-CoV-2 by inspecting the D614G mutation. The D614G mutation causes a change in the structure of the viral spike glycoprotein.\n",
    "\n",
    "In order to focus the study, we utilized California as our testing sample and focus to act as a case study of the D614G missense mutation. We analyzed 30 samples taken from the NCBI database and searched to see if they contained the mutation.\n",
    "\n",
    "The functions below read in the sequence data and find which contain the mutation."
   ]
  },
  {
   "cell_type": "code",
   "execution_count": 67,
   "metadata": {},
   "outputs": [],
   "source": [
    "def get_sequence(filename):\n",
    "    file = open(\"./mutation_data/\" +filename)\n",
    "    sequence = \"\"\n",
    "    count = 0\n",
    "    \n",
    "    for line in file:\n",
    "        if count != 0:\n",
    "            sequence += line.strip()\n",
    "        count += 1\n",
    "        \n",
    "    return sequence\n",
    "        \n",
    "    \n",
    "def find_mutations():\n",
    "    out_file_1 = open(\"./mutation_data/results.txt\", \"w\")\n",
    "    out_file_2 = open(\"./mutation_data/differences.txt\", \"w\")\n",
    "    reference_genome = get_sequence(\"reference_seq.fasta\")\n",
    "    mutation_filename = \"seq_00.fasta\"\n",
    "    \n",
    "    mutations = []\n",
    "    \n",
    "    for i in range(1, 31):\n",
    "        temp = mutation_filename[:4] + f'{i:02}' + mutation_filename[6:]\n",
    "        mutation = get_sequence(temp)\n",
    "        mutations.append(mutation)\n",
    "    \n",
    "    for i in range(len(mutations)):\n",
    "        mutation = mutations[i]\n",
    "        \n",
    "        if mutation[23402] == 'G':\n",
    "            out_file_1.write(str(i + 1) + \" - \" + mutation[23402] + \"\\n\")\n",
    "    \n",
    "    for i in range(len(mutations)):\n",
    "        out_file_2.write(str(i) + \" - differences\")\n",
    "        mutation = mutations[i]\n",
    "        differences = \"\"\n",
    "        min_len = min(len(reference_genome), len(mutation))\n",
    "        \n",
    "        \n",
    "        for j in range(min_len):\n",
    "            if(reference_genome[j] != mutation[j]):\n",
    "                differences += reference_genome[j]\n",
    "            else:\n",
    "                differences += \"-\"\n",
    "                \n",
    "        out_file_2.write(reference_genome)\n",
    "        out_file_2.write(differences)\n",
    "    \n",
    "find_mutations()"
   ]
  },
  {
   "cell_type": "markdown",
   "metadata": {},
   "source": [
    "#### Mutation Results\n",
    "Below are the results of searching for the D614G missense mutation amongst the data set."
   ]
  },
  {
   "cell_type": "code",
   "execution_count": 68,
   "metadata": {},
   "outputs": [
    {
     "name": "stdout",
     "output_type": "stream",
     "text": [
      "4 - G\n",
      "21 - G\n",
      "24 - G\n"
     ]
    }
   ],
   "source": [
    "%%bash\n",
    "cat ./mutation_data/results.txt"
   ]
  },
  {
   "cell_type": "markdown",
   "metadata": {},
   "source": [
    "### Pulling Data from NCBI\n",
    "\n",
    "There are third party resources to pull data from the NCBI database. Utilizing thee resources to streamline or automate collecting sequences would be convinient, but they were either too simple to be useful or too complicated to be worth the time put in. \n",
    "\n",
    "Furthermore, there are problems with the NCBI database itself. The data labelled as SARS-CoV-1 and SARS-Cov-2 were part of the same dataset, so manual verification is required to see that you're getting the proper sequences. Thus, any attempt at automation would run into this problem and it is likely there are simliar issues with other data entries.\n"
   ]
  },
  {
   "cell_type": "markdown",
   "metadata": {},
   "source": [
    "### Relevant GitHubs\n",
    "\n",
    "Analysis using k-mer composition\n",
    "https://anderson-github-classroom.github.io/csc-448-project/eagranof/\n",
    "\n",
    "Even more analysis using k-mer composition\n",
    "https://anderson-github-classroom.github.io/csc-448-project/skurdogh/ \n",
    "\n",
    "Vitulgin Experimentation\n",
    "https://anderson-github-classroom.github.io/csc-448-project/cilg/\n",
    "\n",
    "The Levenshtein distance experiment\n",
    "https://anderson-github-classroom.github.io/csc-448-project/awengel/ \n",
    "\n",
    "Mutation Rate Comparison and Spike Proteins\n",
    "https://anderson-github-classroom.github.io/csc-448-project/pamidi/"
   ]
  },
  {
   "cell_type": "markdown",
   "metadata": {},
   "source": [
    "## References"
   ]
  },
  {
   "cell_type": "markdown",
   "metadata": {},
   "source": [
    "(1) Korber, B., Fischer, W. M., Gnanakaran, S., Yoon, H., Theiler, J., Abfalterer, W., . . . Wyles, M. D. (2020). Tracking Changes in SARS-CoV-2 Spike: Evidence that D614G Increases Infectivity of the COVID-19 Virus. Cell, 182(4). doi:10.1016/j.cell.2020.06.043\n",
    "\n",
    "(2) Guan, Q., Sadykov, M., Mfarrej, S., Hala, S., Naeem, R., Nugmanova, R., . . . Pain, A. (2020). A genetic barcode of SARS-CoV-2 for monitoring global distribution of different clades during the COVID-19 pandemic. International Journal of Infectious Diseases, 100, 216-223. doi:10.1016/j.ijid.2020.08.052\n",
    "\n",
    "(3) Chico Harlan, S. (2020, March 20). How coronavirus overwhelmed Italy, with more than 4,000 deaths in one month. Retrieved November 27, 2020, from https://www.washingtonpost.com/world/europe/italy-coronavirus-deaths/2020/03/20/4a385552-6a20-11ea-b199-3a9799c54512_story.html\n",
    "\n",
    "(4) Isabel, S., Graña-Miraglia, L., Gutierrez, J.M. et al. Evolutionary and structural analyses of SARS-CoV-2 D614G spike protein mutation now documented worldwide. Sci Rep 10, 14031 (2020). https://doi.org/10.1038/s41598-020-70827-z\n",
    "\n",
    "(5) National Center for Biotechnology Information. (n.d.). Retrieved November 27, 2020, from https://www.ncbi.nlm.nih.gov/\n",
    "\n",
    "(6) Zhang, L., Jackson, C. B., Mou, H., Ojha, A., Rangarajan, E. S., Izard, T., . . . Choe, H. (2020). The D614G mutation in the SARS-CoV-2 spike protein reduces S1 shedding and increases infectivity. National Institutes of Health. doi:10.1101/2020.06.12.148726\n",
    "\n",
    "(7) Alex Wigglesworth, R. (2020, January 26). California's first two cases of coronavirus are confirmed in L.A. and Orange counties. Retrieved November 27, 2020, from https://www.sandiegouniontribune.com/news/california/story/2020-01-26/californias-first-two-cases-of-coronavirus-are-confirmed-in-l-a-and-orange-counties\n",
    "\n",
    "(8) California, S. (n.d.). Tracking COVID-19 in California. Retrieved November 27, 2020, from https://covid19.ca.gov/state-dashboard/ "
   ]
  },
  {
   "cell_type": "code",
   "execution_count": null,
   "metadata": {},
   "outputs": [],
   "source": []
  }
 ],
 "metadata": {
  "kernelspec": {
   "display_name": "Python 3",
   "language": "python",
   "name": "python3"
  },
  "language_info": {
   "codemirror_mode": {
    "name": "ipython",
    "version": 3
   },
   "file_extension": ".py",
   "mimetype": "text/x-python",
   "name": "python",
   "nbconvert_exporter": "python",
   "pygments_lexer": "ipython3",
   "version": "3.7.3"
  }
 },
 "nbformat": 4,
 "nbformat_minor": 4
}
